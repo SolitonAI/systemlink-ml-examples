{
 "cells": [
  {
   "cell_type": "markdown",
   "metadata": {},
   "source": [
    "# Deployment Notebook\n",
    "This notebbook loads the a trained simple machine learning model from SystemLink, loads a unlabelled waveforms from SytemLink, predicts the label using the model and stores back the predictions into SystemLink Server"
   ]
  },
  {
   "cell_type": "markdown",
   "metadata": {},
   "source": [
    "### Importing SystemLink Python Modules"
   ]
  },
  {
   "cell_type": "code",
   "execution_count": 1,
   "metadata": {},
   "outputs": [],
   "source": [
    "from systemlink.fileingestionclient import FileIngestionClient, messages as fileingestion_messages\n",
    "from systemlink.tdmsreaderclient import TDMSReaderClient, messages as tdmsreader_messages"
   ]
  },
  {
   "cell_type": "markdown",
   "metadata": {},
   "source": [
    "### Importing Some Machine Learning Libraries"
   ]
  },
  {
   "cell_type": "code",
   "execution_count": 2,
   "metadata": {},
   "outputs": [
    {
     "name": "stderr",
     "output_type": "stream",
     "text": [
      "Using TensorFlow backend.\n"
     ]
    }
   ],
   "source": [
    "import keras\n",
    "from keras.models import load_model \n",
    "from keras.utils import to_categorical\n",
    "\n",
    "from sklearn.preprocessing import MinMaxScaler\n",
    "from sklearn.utils.class_weight import compute_class_weight\n",
    "\n",
    "import matplotlib.pyplot as plt\n",
    "from IPython.display import display, Markdown\n",
    "import numpy as np\n",
    "import pandas as pd\n",
    "\n",
    "import time\n",
    "import h5py\n",
    "import os"
   ]
  },
  {
   "cell_type": "markdown",
   "metadata": {},
   "source": [
    "### Choose the Dataset and model"
   ]
  },
  {
   "cell_type": "code",
   "execution_count": 3,
   "metadata": {},
   "outputs": [],
   "source": [
    "ShiftId = \"shift_0042\"\n",
    "wavefrom_length = 152\n",
    "\n",
    "model_name = \"simple_model\"\n",
    "model_version = \"001\"\n",
    "\n",
    "label_to_id = {'anomalous':0, 'normal':1}\n",
    "id_to_label = {0:'anomalous', 1:'normal'}\n",
    "\n",
    "wavefrom_length = 152\n",
    "no_of_classes = 2"
   ]
  },
  {
   "cell_type": "markdown",
   "metadata": {},
   "source": [
    "### Fetching File IDs from SystemLink"
   ]
  },
  {
   "cell_type": "code",
   "execution_count": 4,
   "metadata": {},
   "outputs": [
    {
     "data": {
      "text/markdown": [
       "<h2>Number of waveforms in the dataset : 1000</h2>"
      ],
      "text/plain": [
       "<IPython.core.display.Markdown object>"
      ]
     },
     "metadata": {},
     "output_type": "display_data"
    }
   ],
   "source": [
    "fileingestionclient = FileIngestionClient(service_name='FileIngestionClient')\n",
    "tdmsreaderclient = TDMSReaderClient(service_name='TDMSReaderClient')\n",
    "\n",
    "equal_op = fileingestion_messages.QueryOperator(fileingestion_messages.QueryOperator.EQUAL)\n",
    "query_shift_id = fileingestion_messages.StringQueryEntry('shiftId', ShiftId, equal_op)\n",
    "\n",
    "file_ids = []\n",
    "\n",
    "res = fileingestionclient.query_files(properties_query=[query_shift_id])\n",
    "file_ids.extend([file.id for file in res.available_files])\n",
    "no_of_waveforms = len(file_ids)\n",
    "display(Markdown('<h2>Number of waveforms in the dataset : %s</h2>'%(no_of_waveforms)))"
   ]
  },
  {
   "cell_type": "markdown",
   "metadata": {},
   "source": [
    "### Loading data from SystemLink"
   ]
  },
  {
   "cell_type": "code",
   "execution_count": 5,
   "metadata": {},
   "outputs": [],
   "source": [
    "X_test = np.ndarray([no_of_waveforms, wavefrom_length])\n",
    "test_file_ids = []\n",
    "group_name = \"sensor_data\"\n",
    "test_idx = 0\n",
    "\n",
    "for idx,file_id in enumerate(file_ids):\n",
    "    limits = tdmsreader_messages.SkipTakeReturnCount(0, -1, True)\n",
    "    channels = tdmsreaderclient.get_channels(file_id, group_name, limits)\n",
    "    sensor_waveforms = []\n",
    "    for channel_name in channels.names:\n",
    "        channel_specifier = tdmsreader_messages.OneChannelSpecifier(\n",
    "        file_id_=file_id,\n",
    "        group_name_=group_name,\n",
    "        channel_name_=channel_name)\n",
    "\n",
    "        data_window = tdmsreader_messages.DataWindow(\n",
    "                    xmin_=0,\n",
    "                    xmax_=1000,\n",
    "                    xlog_=False,\n",
    "                    ymin_=0,\n",
    "                    ymax_=1000,\n",
    "                    ylog_=False,\n",
    "                    decimatex_=0,\n",
    "                    decimatey_=0,\n",
    "                    show_points_=False,\n",
    "                    show_lines_=False)\n",
    "        xy_channels = tdmsreader_messages.XYChannels(\n",
    "                    xchannel_=None,\n",
    "                    ychannels_=[channel_specifier],\n",
    "                    data_window_=data_window)\n",
    "        channel_spec = tdmsreader_messages.ChannelSpecifications(xy_channels_=[xy_channels])\n",
    "        sensor_waveform = tdmsreaderclient.query_data(channel_spec)\n",
    "        sensor_waveforms.append(np.array(sensor_waveform.data[0].y[0].numeric_data))\n",
    "\n",
    "    X_test[test_idx,:] = sensor_waveforms[0]\n",
    "    test_file_ids.append(file_id)\n",
    "    test_idx +=1\n",
    "        \n",
    "X_test_reshape = X_test.reshape(X_test.shape[0], X_test.shape[1], 1)"
   ]
  },
  {
   "cell_type": "markdown",
   "metadata": {},
   "source": [
    "### Loading the model and metadata from Systemlink"
   ]
  },
  {
   "cell_type": "code",
   "execution_count": 6,
   "metadata": {},
   "outputs": [
    {
     "name": "stdout",
     "output_type": "stream",
     "text": [
      "WARNING:tensorflow:From C:\\Program Files\\National Instruments\\Shared\\Skyline\\Python\\3.7\\lib\\site-packages\\tensorflow\\python\\framework\\op_def_library.py:263: colocate_with (from tensorflow.python.framework.ops) is deprecated and will be removed in a future version.\n",
      "Instructions for updating:\n",
      "Colocations handled automatically by placer.\n",
      "WARNING:tensorflow:From C:\\Program Files\\National Instruments\\Shared\\Skyline\\Python\\3.7\\lib\\site-packages\\tensorflow\\python\\ops\\math_ops.py:3066: to_int32 (from tensorflow.python.ops.math_ops) is deprecated and will be removed in a future version.\n",
      "Instructions for updating:\n",
      "Use tf.cast instead.\n"
     ]
    }
   ],
   "source": [
    "model_filepath = \"models_from_server/{}_v{}.h5\".format(model_name, model_version)\n",
    "train_mean_filepath =\"models_from_server/{}_v{}_train_mean.npy\".format(model_name, model_version)\n",
    "\n",
    "model_query = fileingestion_messages.StringQueryEntry('Name', os.path.split(model_filepath)[-1], equal_op)\n",
    "res = fileingestionclient.query_files(properties_query=[model_query])\n",
    "model_file_id = res.available_files.pop().id\n",
    "fileingestionclient.download_file(file_id=model_file_id, file_path=model_filepath)\n",
    "\n",
    "train_mean_query = fileingestion_messages.StringQueryEntry('Name', os.path.split(train_mean_filepath)[-1], equal_op)\n",
    "res = fileingestionclient.query_files(properties_query=[train_mean_query])\n",
    "mean_file_id = res.available_files.pop().id\n",
    "fileingestionclient.download_file(file_id=mean_file_id, file_path=train_mean_filepath)\n",
    "\n",
    "model = load_model(model_filepath)\n",
    "train_mean = np.load(train_mean_filepath)"
   ]
  },
  {
   "cell_type": "markdown",
   "metadata": {},
   "source": [
    "### Preprocessing the data"
   ]
  },
  {
   "cell_type": "code",
   "execution_count": 7,
   "metadata": {},
   "outputs": [],
   "source": [
    "scaler = MinMaxScaler(feature_range=(-1, 1))\n",
    "\n",
    "X_test_s = []\n",
    "for x_ in X_test_reshape:\n",
    "    scaler = scaler.fit(x_)\n",
    "    X_test_s.append(scaler.transform(x_))\n",
    "X_test_s = np.array(X_test_s)\n",
    "X_test_s_mean = X_test_s - train_mean"
   ]
  },
  {
   "cell_type": "markdown",
   "metadata": {},
   "source": [
    "### Predicting and storing the predicted labels in SystemLink as metadata"
   ]
  },
  {
   "cell_type": "code",
   "execution_count": 8,
   "metadata": {},
   "outputs": [
    {
     "name": "stdout",
     "output_type": "stream",
     "text": [
      "1000/1000 [==============================] - 0s 119us/step\n"
     ]
    },
    {
     "data": {
      "text/markdown": [
       "<h2>Total Number of Waveforms : 1000</h2>"
      ],
      "text/plain": [
       "<IPython.core.display.Markdown object>"
      ]
     },
     "metadata": {},
     "output_type": "display_data"
    },
    {
     "data": {
      "text/markdown": [
       "<h4>Predicted as Normal : 840</h4>"
      ],
      "text/plain": [
       "<IPython.core.display.Markdown object>"
      ]
     },
     "metadata": {},
     "output_type": "display_data"
    },
    {
     "data": {
      "text/markdown": [
       "<h4>Predicted as Anomalous : 160</h4><hr>"
      ],
      "text/plain": [
       "<IPython.core.display.Markdown object>"
      ]
     },
     "metadata": {},
     "output_type": "display_data"
    }
   ],
   "source": [
    "preds_prob = model.predict(X_test_s_mean[:,:,0], verbose=1, batch_size=64)\n",
    "preds = np.argmax(preds_prob, axis=1)\n",
    "\n",
    "for file_id, prediction, prob in zip(file_ids, preds,preds_prob):\n",
    "    fileingestionclient.update_file_metadata(file_id=file_id, replace_existing=False, properties={\"predictedLabel\":id_to_label[prediction],\n",
    "                                                                                                 \"confidence\":\"%0.2f%%\"%(max(prob)*100)})\n",
    "\n",
    "os.remove(model_filepath)\n",
    "os.remove(train_mean_filepath)\n",
    "\n",
    "display(Markdown('<h2>Total Number of Waveforms : %s</h2>'%(len(preds))))\n",
    "display(Markdown('<h4>Predicted as Normal : %s</h4>'%(len(preds[preds == 1]))))\n",
    "display(Markdown('<h4>Predicted as Anomalous : %s</h4><hr>'%(len(preds[preds == 0]))))"
   ]
  },
  {
   "cell_type": "code",
   "execution_count": null,
   "metadata": {},
   "outputs": [],
   "source": []
  }
 ],
 "metadata": {
  "kernelspec": {
   "display_name": "Python 3",
   "language": "python",
   "name": "python3"
  },
  "language_info": {
   "codemirror_mode": {
    "name": "ipython",
    "version": 3
   },
   "file_extension": ".py",
   "mimetype": "text/x-python",
   "name": "python",
   "nbconvert_exporter": "python",
   "pygments_lexer": "ipython3",
   "version": "3.7.1"
  }
 },
 "nbformat": 4,
 "nbformat_minor": 2
}
